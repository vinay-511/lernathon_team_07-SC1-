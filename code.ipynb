{
  "nbformat": 4,
  "nbformat_minor": 0,
  "metadata": {
    "colab": {
      "provenance": []
    },
    "kernelspec": {
      "name": "python3",
      "display_name": "Python 3"
    },
    "language_info": {
      "name": "python"
    }
  },
  "cells": [
    {
      "cell_type": "code",
      "source": [
        "# Auto Insurance Fraud Detection - Logistic Regression\n"
      ],
      "metadata": {
        "id": "wNAUgtNMDJZ5"
      },
      "execution_count": 20,
      "outputs": []
    },
    {
      "cell_type": "code",
      "source": [
        "import pandas as pd\n",
        "import numpy as np\n",
        "from sklearn.model_selection import train_test_split\n",
        "from sklearn.preprocessing import StandardScaler, LabelEncoder\n",
        "from sklearn.linear_model import LogisticRegression\n",
        "from sklearn.metrics import accuracy_score, classification_report\n",
        "\n",
        "df1 = pd.read_csv('Auto_Insurance_Fraud_Claims_File01.csv')\n",
        "df2 = pd.read_csv('Auto_Insurance_Fraud_Claims_File02.csv')\n",
        "df3 = pd.read_csv('Auto_Insurance_Fraud_Claims_File03.csv')\n",
        "\n",
        "train_df = pd.concat([df1, df2], ignore_index=True)\n",
        "test_df = df3.copy()\n",
        "\n",
        "drop_cols = ['Claim_ID', 'Policy_Num', 'Policy_Start_Date', 'Policy_Expiry_Date',\n",
        "             'Accident_Date', 'Claims_Date', 'Vehicle_Registration', 'DL_Expiry_Date',\n",
        "             'Check_Point', 'Insured_Zip', 'Auto_Model', 'Accident_Location',\n",
        "             'Vehicle_Color', 'Garage_Location']\n",
        "\n",
        "train_df.drop(columns=drop_cols, inplace=True, errors='ignore')\n",
        "test_df.drop(columns=drop_cols, inplace=True, errors='ignore')\n",
        "\n",
        "train_df.fillna('Unknown', inplace=True)\n",
        "test_df.fillna('Unknown', inplace=True)\n",
        "\n",
        "label_encoder = LabelEncoder()\n",
        "train_df['Fraud_Ind'] = label_encoder.fit_transform(train_df['Fraud_Ind'])  # Y/N → 1/0\n",
        "\n",
        "common_cols = train_df.columns.intersection(test_df.columns)\n",
        "X = train_df[common_cols].copy()\n",
        "X_test = test_df[common_cols].copy()\n",
        "y = train_df['Fraud_Ind']\n",
        "\n",
        "cat_cols = X.select_dtypes(include='object').columns\n",
        "for col in cat_cols:\n",
        "    le = LabelEncoder()\n",
        "    combined = pd.concat([X[col], X_test[col]], axis=0).astype(str)\n",
        "    le.fit(combined)\n",
        "    X[col] = le.transform(X[col].astype(str))\n",
        "    X_test[col] = le.transform(X_test[col].astype(str))\n",
        "\n",
        "num_cols = X.select_dtypes(include=np.number).columns\n",
        "scaler = StandardScaler()\n",
        "X[num_cols] = scaler.fit_transform(X[num_cols])\n",
        "X_test[num_cols] = scaler.transform(X_test[num_cols])\n",
        "\n",
        "X_train, X_val, y_train, y_val = train_test_split(X, y, test_size=0.2, random_state=42)\n",
        "\n",
        "model = LogisticRegression(max_iter=1000)\n",
        "model.fit(X_train, y_train)\n",
        "\n",
        "y_pred = model.predict(X_val)\n",
        "accuracy = accuracy_score(y_val, y_pred)\n",
        "report = classification_report(y_val, y_pred)\n",
        "\n",
        "print(\"Validation Accuracy:\", accuracy)\n",
        "print(\"Classification Report:\\n\", report)\n",
        "\n",
        "test_preds = model.predict(X_test)\n",
        "pred_labels = label_encoder.inverse_transform(test_preds)\n",
        "\n",
        "output = pd.DataFrame()\n",
        "if 'Claim_ID' in df3.columns:\n",
        "    output['Claim_ID'] = df3['Claim_ID']\n",
        "output['Predicted_Fraud'] = pred_labels\n",
        "\n",
        "print(\"\\nSample Predictions:\")\n",
        "print(output.head())\n",
        "\n",
        "output.to_csv(\"Predicted_Fraud_Claims.csv\", index=False)\n"
      ],
      "metadata": {
        "colab": {
          "base_uri": "https://localhost:8080/"
        },
        "id": "wDgVKImIDPl1",
        "outputId": "a348ac46-9166-4d42-dab8-bd32a45cf8df"
      },
      "execution_count": 21,
      "outputs": [
        {
          "output_type": "stream",
          "name": "stdout",
          "text": [
            "Validation Accuracy: 0.787\n",
            "Classification Report:\n",
            "               precision    recall  f1-score   support\n",
            "\n",
            "           0       0.82      0.91      0.86      8912\n",
            "           1       0.62      0.44      0.52      3088\n",
            "\n",
            "    accuracy                           0.79     12000\n",
            "   macro avg       0.72      0.67      0.69     12000\n",
            "weighted avg       0.77      0.79      0.77     12000\n",
            "\n",
            "\n",
            "Sample Predictions:\n",
            "     Claim_ID Predicted_Fraud\n",
            "0  CC00000001               N\n",
            "1  CC00000002               N\n",
            "2  CC00000003               Y\n",
            "3  CC00000004               N\n",
            "4  CC00000005               N\n"
          ]
        }
      ]
    },
    {
      "cell_type": "markdown",
      "source": [],
      "metadata": {
        "id": "SHAgbhocy4tt"
      }
    },
    {
      "cell_type": "code",
      "source": [
        "import pandas as pd\n",
        "import numpy as np\n",
        "from sklearn.model_selection import train_test_split\n",
        "from sklearn.preprocessing import StandardScaler, LabelEncoder\n",
        "from sklearn.metrics import accuracy_score, classification_report, precision_score, recall_score, f1_score, roc_auc_score\n",
        "from sklearn.neighbors import KNeighborsClassifier\n",
        "from imblearn.over_sampling import SMOTE\n",
        "df1 = pd.read_csv('Auto_Insurance_Fraud_Claims_File01.csv')\n",
        "df2 = pd.read_csv('Auto_Insurance_Fraud_Claims_File02.csv')\n",
        "df3 = pd.read_csv('Auto_Insurance_Fraud_Claims_File03.csv')\n",
        "train_df = pd.concat([df1, df2], ignore_index=True)\n",
        "test_df = df3.copy()\n",
        "drop_cols = ['Claim_ID', 'Policy_Num', 'Policy_Start_Date', 'Policy_Expiry_Date',\n",
        "             'Accident_Date', 'Claims_Date', 'Vehicle_Registration', 'DL_Expiry_Date',\n",
        "             'Check_Point', 'Insured_Zip', 'Auto_Model', 'Accident_Location',\n",
        "             'Vehicle_Color', 'Garage_Location']\n",
        "train_df.drop(columns=drop_cols, inplace=True, errors='ignore')\n",
        "test_df.drop(columns=drop_cols, inplace=True, errors='ignore')\n",
        "train_df.fillna('Unknown', inplace=True)\n",
        "test_df.fillna('Unknown', inplace=True)\n",
        "label_encoder = LabelEncoder()\n",
        "train_df['Fraud_Ind'] = label_encoder.fit_transform(train_df['Fraud_Ind'])\n",
        "common_cols = train_df.columns.intersection(test_df.columns)\n",
        "X = train_df[common_cols].copy()\n",
        "X_test = test_df[common_cols].copy()\n",
        "y = train_df['Fraud_Ind']\n",
        "cat_cols = X.select_dtypes(include='object').columns\n",
        "for col in cat_cols:\n",
        "    le = LabelEncoder()\n",
        "    combined = pd.concat([X[col], X_test[col]], axis=0).astype(str)\n",
        "    le.fit(combined)\n",
        "    X[col] = le.transform(X[col].astype(str))\n",
        "    X_test[col] = le.transform(X_test[col].astype(str))\n",
        "num_cols = X.select_dtypes(include=np.number).columns\n",
        "scaler = StandardScaler()\n",
        "X[num_cols] = scaler.fit_transform(X[num_cols])\n",
        "X_test[num_cols] = scaler.transform(X_test[num_cols])\n",
        "corr_matrix = pd.concat([X, y], axis=1).corr()\n",
        "high_corr = corr_matrix['Fraud_Ind'][abs(corr_matrix['Fraud_Ind']) > 0.95].drop('Fraud_Ind').index.tolist()\n",
        "X.drop(columns=high_corr, inplace=True)\n",
        "X_test.drop(columns=high_corr, inplace=True)\n",
        "X_train, X_val, y_train, y_val = train_test_split(X, y, stratify=y, test_size=0.2, random_state=42)\n",
        "smote = SMOTE(random_state=42)\n",
        "X_resampled, y_resampled = smote.fit_resample(X_train, y_train)\n",
        "knn_model = KNeighborsClassifier(n_neighbors=5, metric='minkowski')\n",
        "knn_model.fit(X_resampled, y_resampled)\n",
        "y_pred = knn_model.predict(X_val)\n",
        "print(\" Accuracy:\", accuracy_score(y_val, y_pred))\n",
        "print(\" Precision:\", precision_score(y_val, y_pred))\n",
        "print(\" Recall:\", recall_score(y_val, y_pred))\n",
        "print(\" F1 Score:\", f1_score(y_val, y_pred))\n",
        "print(\" ROC AUC:\", roc_auc_score(y_val, y_pred))\n",
        "print(\"\\nClassification Report:\\n\", classification_report(y_val, y_pred))\n",
        "test_preds = knn_model.predict(X_test)\n",
        "pred_labels = label_encoder.inverse_transform(test_preds)\n",
        "output = pd.DataFrame()\n",
        "if 'Claim_ID' in df3.columns:\n",
        "    output['Claim_ID'] = df3['Claim_ID']\n",
        "output['Predicted_Fraud'] = pred_labels\n",
        "print(\"\\n Sample Predictions:\")\n",
        "print(output.head())\n",
        "output.to_csv(\"KNN_Predicted_Fraud_Claims.csv\", index=False)"
      ],
      "metadata": {
        "colab": {
          "base_uri": "https://localhost:8080/"
        },
        "id": "eEieHsfezDSd",
        "outputId": "a0f4af5a-fb40-40f4-c08a-0625cd2a528c"
      },
      "execution_count": null,
      "outputs": [
        {
          "output_type": "stream",
          "name": "stdout",
          "text": [
            " Accuracy: 0.9930833333333333\n",
            " Precision: 0.9777059773828756\n",
            " Recall: 0.9953947368421052\n",
            " F1 Score: 0.9864710676446617\n",
            " ROC AUC: 0.9938469219924813\n",
            "\n",
            "Classification Report:\n",
            "               precision    recall  f1-score   support\n",
            "\n",
            "           0       1.00      0.99      1.00      8960\n",
            "           1       0.98      1.00      0.99      3040\n",
            "\n",
            "    accuracy                           0.99     12000\n",
            "   macro avg       0.99      0.99      0.99     12000\n",
            "weighted avg       0.99      0.99      0.99     12000\n",
            "\n",
            "\n",
            " Sample Predictions:\n",
            "     Claim_ID Predicted_Fraud\n",
            "0  CC00000001               N\n",
            "1  CC00000002               N\n",
            "2  CC00000003               Y\n",
            "3  CC00000004               N\n",
            "4  CC00000005               N\n"
          ]
        }
      ]
    }
  ]
}